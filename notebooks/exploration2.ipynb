{
 "cells": [
  {
   "cell_type": "markdown",
   "metadata": {},
   "source": [
    "# Importing the data"
   ]
  },
  {
   "cell_type": "code",
   "execution_count": 1,
   "metadata": {},
   "outputs": [],
   "source": [
    "import pandas as pd\n",
    "\n",
    "data = pd.read_csv(\"https://archive.ics.uci.edu/ml/machine-learning-databases/adult/adult.data\", \n",
    "                   names=['age','workclass','fnlwgt', 'education','education_num','marital_status',\n",
    "                          'occupation','relationship','race','sex','capital_gain','capital_loss',\n",
    "                          'hours_per_week', 'native_country','label'])"
   ]
  },
  {
   "cell_type": "code",
   "execution_count": 2,
   "metadata": {
    "scrolled": false
   },
   "outputs": [
    {
     "data": {
      "text/html": [
       "<div>\n",
       "<style scoped>\n",
       "    .dataframe tbody tr th:only-of-type {\n",
       "        vertical-align: middle;\n",
       "    }\n",
       "\n",
       "    .dataframe tbody tr th {\n",
       "        vertical-align: top;\n",
       "    }\n",
       "\n",
       "    .dataframe thead th {\n",
       "        text-align: right;\n",
       "    }\n",
       "</style>\n",
       "<table border=\"1\" class=\"dataframe\">\n",
       "  <thead>\n",
       "    <tr style=\"text-align: right;\">\n",
       "      <th></th>\n",
       "      <th>age</th>\n",
       "      <th>workclass</th>\n",
       "      <th>fnlwgt</th>\n",
       "      <th>education</th>\n",
       "      <th>education_num</th>\n",
       "      <th>marital_status</th>\n",
       "      <th>occupation</th>\n",
       "      <th>relationship</th>\n",
       "      <th>race</th>\n",
       "      <th>sex</th>\n",
       "      <th>capital_gain</th>\n",
       "      <th>capital_loss</th>\n",
       "      <th>hours_per_week</th>\n",
       "      <th>native_country</th>\n",
       "      <th>label</th>\n",
       "    </tr>\n",
       "  </thead>\n",
       "  <tbody>\n",
       "    <tr>\n",
       "      <th>0</th>\n",
       "      <td>39</td>\n",
       "      <td>State-gov</td>\n",
       "      <td>77516</td>\n",
       "      <td>Bachelors</td>\n",
       "      <td>13</td>\n",
       "      <td>Never-married</td>\n",
       "      <td>Adm-clerical</td>\n",
       "      <td>Not-in-family</td>\n",
       "      <td>White</td>\n",
       "      <td>Male</td>\n",
       "      <td>2174</td>\n",
       "      <td>0</td>\n",
       "      <td>40</td>\n",
       "      <td>United-States</td>\n",
       "      <td>&lt;=50K</td>\n",
       "    </tr>\n",
       "    <tr>\n",
       "      <th>1</th>\n",
       "      <td>50</td>\n",
       "      <td>Self-emp-not-inc</td>\n",
       "      <td>83311</td>\n",
       "      <td>Bachelors</td>\n",
       "      <td>13</td>\n",
       "      <td>Married-civ-spouse</td>\n",
       "      <td>Exec-managerial</td>\n",
       "      <td>Husband</td>\n",
       "      <td>White</td>\n",
       "      <td>Male</td>\n",
       "      <td>0</td>\n",
       "      <td>0</td>\n",
       "      <td>13</td>\n",
       "      <td>United-States</td>\n",
       "      <td>&lt;=50K</td>\n",
       "    </tr>\n",
       "    <tr>\n",
       "      <th>2</th>\n",
       "      <td>38</td>\n",
       "      <td>Private</td>\n",
       "      <td>215646</td>\n",
       "      <td>HS-grad</td>\n",
       "      <td>9</td>\n",
       "      <td>Divorced</td>\n",
       "      <td>Handlers-cleaners</td>\n",
       "      <td>Not-in-family</td>\n",
       "      <td>White</td>\n",
       "      <td>Male</td>\n",
       "      <td>0</td>\n",
       "      <td>0</td>\n",
       "      <td>40</td>\n",
       "      <td>United-States</td>\n",
       "      <td>&lt;=50K</td>\n",
       "    </tr>\n",
       "    <tr>\n",
       "      <th>3</th>\n",
       "      <td>53</td>\n",
       "      <td>Private</td>\n",
       "      <td>234721</td>\n",
       "      <td>11th</td>\n",
       "      <td>7</td>\n",
       "      <td>Married-civ-spouse</td>\n",
       "      <td>Handlers-cleaners</td>\n",
       "      <td>Husband</td>\n",
       "      <td>Black</td>\n",
       "      <td>Male</td>\n",
       "      <td>0</td>\n",
       "      <td>0</td>\n",
       "      <td>40</td>\n",
       "      <td>United-States</td>\n",
       "      <td>&lt;=50K</td>\n",
       "    </tr>\n",
       "    <tr>\n",
       "      <th>4</th>\n",
       "      <td>28</td>\n",
       "      <td>Private</td>\n",
       "      <td>338409</td>\n",
       "      <td>Bachelors</td>\n",
       "      <td>13</td>\n",
       "      <td>Married-civ-spouse</td>\n",
       "      <td>Prof-specialty</td>\n",
       "      <td>Wife</td>\n",
       "      <td>Black</td>\n",
       "      <td>Female</td>\n",
       "      <td>0</td>\n",
       "      <td>0</td>\n",
       "      <td>40</td>\n",
       "      <td>Cuba</td>\n",
       "      <td>&lt;=50K</td>\n",
       "    </tr>\n",
       "  </tbody>\n",
       "</table>\n",
       "</div>"
      ],
      "text/plain": [
       "   age          workclass  fnlwgt   education  education_num  \\\n",
       "0   39          State-gov   77516   Bachelors             13   \n",
       "1   50   Self-emp-not-inc   83311   Bachelors             13   \n",
       "2   38            Private  215646     HS-grad              9   \n",
       "3   53            Private  234721        11th              7   \n",
       "4   28            Private  338409   Bachelors             13   \n",
       "\n",
       "        marital_status          occupation    relationship    race      sex  \\\n",
       "0        Never-married        Adm-clerical   Not-in-family   White     Male   \n",
       "1   Married-civ-spouse     Exec-managerial         Husband   White     Male   \n",
       "2             Divorced   Handlers-cleaners   Not-in-family   White     Male   \n",
       "3   Married-civ-spouse   Handlers-cleaners         Husband   Black     Male   \n",
       "4   Married-civ-spouse      Prof-specialty            Wife   Black   Female   \n",
       "\n",
       "   capital_gain  capital_loss  hours_per_week  native_country   label  \n",
       "0          2174             0              40   United-States   <=50K  \n",
       "1             0             0              13   United-States   <=50K  \n",
       "2             0             0              40   United-States   <=50K  \n",
       "3             0             0              40   United-States   <=50K  \n",
       "4             0             0              40            Cuba   <=50K  "
      ]
     },
     "execution_count": 2,
     "metadata": {},
     "output_type": "execute_result"
    }
   ],
   "source": [
    "data.head()"
   ]
  },
  {
   "cell_type": "code",
   "execution_count": 3,
   "metadata": {},
   "outputs": [
    {
     "name": "stdout",
     "output_type": "stream",
     "text": [
      "<class 'pandas.core.frame.DataFrame'>\n",
      "RangeIndex: 32561 entries, 0 to 32560\n",
      "Data columns (total 15 columns):\n",
      " #   Column          Non-Null Count  Dtype \n",
      "---  ------          --------------  ----- \n",
      " 0   age             32561 non-null  int64 \n",
      " 1   workclass       32561 non-null  object\n",
      " 2   fnlwgt          32561 non-null  int64 \n",
      " 3   education       32561 non-null  object\n",
      " 4   education_num   32561 non-null  int64 \n",
      " 5   marital_status  32561 non-null  object\n",
      " 6   occupation      32561 non-null  object\n",
      " 7   relationship    32561 non-null  object\n",
      " 8   race            32561 non-null  object\n",
      " 9   sex             32561 non-null  object\n",
      " 10  capital_gain    32561 non-null  int64 \n",
      " 11  capital_loss    32561 non-null  int64 \n",
      " 12  hours_per_week  32561 non-null  int64 \n",
      " 13  native_country  32561 non-null  object\n",
      " 14  label           32561 non-null  object\n",
      "dtypes: int64(6), object(9)\n",
      "memory usage: 3.7+ MB\n"
     ]
    }
   ],
   "source": [
    "data.info()"
   ]
  },
  {
   "cell_type": "code",
   "execution_count": 4,
   "metadata": {},
   "outputs": [],
   "source": [
    "import diffprivlib as dp\n",
    "import numpy as np\n",
    "import matplotlib.pyplot as plt"
   ]
  },
  {
   "cell_type": "code",
   "execution_count": 5,
   "metadata": {},
   "outputs": [],
   "source": [
    "np.random.seed(89)"
   ]
  },
  {
   "cell_type": "code",
   "execution_count": 6,
   "metadata": {},
   "outputs": [
    {
     "data": {
      "text/plain": [
       "BudgetAccountant()"
      ]
     },
     "execution_count": 6,
     "metadata": {},
     "output_type": "execute_result"
    }
   ],
   "source": [
    "acc = dp.BudgetAccountant()\n",
    "acc.set_default()"
   ]
  },
  {
   "cell_type": "markdown",
   "metadata": {},
   "source": [
    "# Extracting personal information through differential privacy"
   ]
  },
  {
   "cell_type": "markdown",
   "metadata": {},
   "source": [
    "Let's try and determine the `capital-gain` for the 0th row of the dataset. The actual answer is 2174, but using differential privacy tools, can we recover this value?"
   ]
  },
  {
   "cell_type": "markdown",
   "metadata": {},
   "source": [
    "## Histogram\n",
    "We can try and hone in on a broad range in which the value lies using a histogram. For population statistics, histograms can produce highly-accurate results, but for statistics on individuals, the results are typically too noisy to draw definitive conclusions"
   ]
  },
  {
   "cell_type": "code",
   "execution_count": 7,
   "metadata": {
    "scrolled": false
   },
   "outputs": [
    {
     "data": {
      "image/png": "[encoded data removed]",
      "text/plain": [
       "<Figure size 432x288 with 1 Axes>"
      ]
     },
     "metadata": {
      "needs_background": "light"
     },
     "output_type": "display_data"
    }
   ],
   "source": [
    "hist_dp, bins = dp.tools.histogram(data['capital_gain'][0], range=(0, 100000), bins=5)\n",
    "hist_np, bins = np.histogram(data['capital_gain'][0], range=(0, 100000), bins=5)\n",
    "w = 10000*.7\n",
    "\n",
    "plt.bar(bins[:-1] - w/2, hist_dp, width=w, label=\"Differentially private\")\n",
    "plt.bar(bins[:-1] + w/2, hist_np, width=w, label=\"Non-private\")\n",
    "plt.legend()\n",
    "plt.show()"
   ]
  },
  {
   "cell_type": "markdown",
   "metadata": {},
   "source": [
    "We can re-run the histogram query many times, and the value will begin to emerge, but this is eating into our privacy budget left to spend. And even so, the results won't necessarily be conclusive."
   ]
  },
  {
   "cell_type": "code",
   "execution_count": 8,
   "metadata": {},
   "outputs": [
    {
     "data": {
      "image/png": "[encoded data removed]",
      "text/plain": [
       "<Figure size 432x288 with 1 Axes>"
      ]
     },
     "metadata": {
      "needs_background": "light"
     },
     "output_type": "display_data"
    }
   ],
   "source": [
    "hist_dp = 0\n",
    "hist_np = 0\n",
    "\n",
    "for i in range(10):\n",
    "    _hist, bins = dp.tools.histogram(data['capital_gain'][0], range=(0, 100000), bins=5)\n",
    "    hist_dp += _hist\n",
    "    \n",
    "    _hist, bins = np.histogram(data['capital_gain'][0], range=(0, 100000), bins=5)\n",
    "    hist_np += _hist\n",
    "\n",
    "plt.bar(bins[:-1] - w/2, hist_dp, width=w, label=\"Differentially private\")\n",
    "plt.bar(bins[:-1] + w/2, hist_np, width=w, label=\"Non-private\")\n",
    "plt.legend()\n",
    "plt.show()"
   ]
  },
  {
   "cell_type": "code",
   "execution_count": 9,
   "metadata": {},
   "outputs": [
    {
     "data": {
      "text/plain": [
       "(epsilon=11.0, delta=0.0)"
      ]
     },
     "execution_count": 9,
     "metadata": {},
     "output_type": "execute_result"
    }
   ],
   "source": [
    "acc.total()"
   ]
  },
  {
   "cell_type": "markdown",
   "metadata": {},
   "source": [
    "## Mean\n",
    "Diffprivlib doesn't have any way to extract values from a dataset by default, but we can extract values by using the `mean` function over a single datapoint. Without differential privacy, this will return the original value, but when differential privacy is applied, the noise renders the output unreliable."
   ]
  },
  {
   "cell_type": "code",
   "execution_count": 10,
   "metadata": {
    "scrolled": false
   },
   "outputs": [
    {
     "name": "stdout",
     "output_type": "stream",
     "text": [
      "Actual value: 2174.00\n",
      "Differentially private value: 28477.78\n"
     ]
    }
   ],
   "source": [
    "mean_dp = dp.tools.mean(data['capital_gain'][0], bounds=(0, 100000))\n",
    "mean_np = np.mean(data['capital_gain'][0])\n",
    "\n",
    "print(\"Actual value: %.2f\\nDifferentially private value: %.2f\" % (mean_np, mean_dp))"
   ]
  },
  {
   "cell_type": "markdown",
   "metadata": {},
   "source": [
    "## Count\n",
    "\n",
    "We can similarly use the `count_nonzero` function to try and hone in on the value. Again, the noise added makes this query unreliable too."
   ]
  },
  {
   "cell_type": "code",
   "execution_count": 11,
   "metadata": {
    "scrolled": true
   },
   "outputs": [
    {
     "name": "stdout",
     "output_type": "stream",
     "text": [
      "Actual count: 0\n",
      "Differentially private count: 0\n"
     ]
    }
   ],
   "source": [
    "count_dp = dp.tools.count_nonzero(data['capital_gain'][0] > 5000)\n",
    "count_np = np.count_nonzero(data['capital_gain'][0] > 5000)\n",
    "\n",
    "print(\"Actual count: %d\\nDifferentially private count: %d\" % (count_np, count_dp))"
   ]
  },
  {
   "cell_type": "code",
   "execution_count": 12,
   "metadata": {},
   "outputs": [
    {
     "name": "stdout",
     "output_type": "stream",
     "text": [
      "Actual count: 1\n",
      "Differentially private count: 0\n"
     ]
    }
   ],
   "source": [
    "count_dp = dp.tools.count_nonzero(data['capital_gain'][0] < 7500)\n",
    "count_np = np.count_nonzero(data['capital_gain'][0] < 7500)\n",
    "\n",
    "print(\"Actual count: %d\\nDifferentially private count: %d\" % (count_np, count_dp))"
   ]
  },
  {
   "cell_type": "markdown",
   "metadata": {},
   "source": [
    "## Differencing attack: Histogram"
   ]
  },
  {
   "cell_type": "markdown",
   "metadata": {},
   "source": [
    "A common attack in deterministic anonymisation systems is to run the same query on two datasets (once on the full dataset, and once on the full dataset without the target entry) and using the difference between the two results to reconstruct the original. With differential privacy, this attack is no longer feasible.\n",
    "\n",
    "In fact,the result is likely to be worse than the naive approach, because noise is being added twice."
   ]
  },
  {
   "cell_type": "code",
   "execution_count": 13,
   "metadata": {
    "scrolled": true
   },
   "outputs": [
    {
     "data": {
      "image/png": "[encoded data removed]",
      "text/plain": [
       "<Figure size 432x288 with 1 Axes>"
      ]
     },
     "metadata": {
      "needs_background": "light"
     },
     "output_type": "display_data"
    }
   ],
   "source": [
    "hist_full, bins = dp.tools.histogram(np.array(data['capital_gain']), range=(0, 100000), bins=5)\n",
    "hist_less, _ = dp.tools.histogram(np.array(data['capital_gain'][1:]), range=(0, 100000), bins=5)\n",
    "\n",
    "np_hist_full, bins = np.histogram(data['capital_gain'], range=(0, 100000), bins=5)\n",
    "np_hist_less, _ = np.histogram(data['capital_gain'][1:], range=(0, 100000), bins=5)\n",
    "w = 10000*.9\n",
    "\n",
    "# plt.bar(bins[:-1], hist_full - hist_less, width=10000*.9)\n",
    "plt.bar(bins[:-1] - w/2, hist_full - hist_less, width=w, label=\"Differentially private\")\n",
    "plt.bar(bins[:-1] + w/2, np_hist_full - np_hist_less, width=w, label=\"Non-private\")\n",
    "plt.legend()\n",
    "plt.show()\n",
    "plt.show()"
   ]
  },
  {
   "cell_type": "markdown",
   "metadata": {},
   "source": [
    "## Differencing attack: Average"
   ]
  },
  {
   "cell_type": "markdown",
   "metadata": {},
   "source": [
    "Similarly, we can run a differencing attack using the mean, but differential privacy protects against this too."
   ]
  },
  {
   "cell_type": "markdown",
   "metadata": {},
   "source": [
    "In comparison, without differential privacy we can recover the original value exactly."
   ]
  },
  {
   "cell_type": "code",
   "execution_count": 14,
   "metadata": {
    "scrolled": false
   },
   "outputs": [
    {
     "name": "stdout",
     "output_type": "stream",
     "text": [
      "Non-private differencing attack (average): 2174.00\n"
     ]
    }
   ],
   "source": [
    "nonpriv_val = np.mean(data['capital_gain']) * 32561 - np.mean(data['capital_gain'][1:]) * 32560\n",
    "\n",
    "print(\"Non-private differencing attack (average): %.2f\" % nonpriv_val)"
   ]
  },
  {
   "cell_type": "code",
   "execution_count": 15,
   "metadata": {},
   "outputs": [
    {
     "name": "stdout",
     "output_type": "stream",
     "text": [
      "Sensitive value estimate: -11612.29\n"
     ]
    }
   ],
   "source": [
    "mean_full = dp.tools.mean(np.array(data['capital_gain']), bounds=(0, 100000))\n",
    "mean_less = dp.tools.mean(np.array(data['capital_gain'][1:]), bounds=(0, 100000))\n",
    "\n",
    "print(\"Sensitive value estimate: %.2f\" % (mean_full * 32561 - mean_less * 32560))"
   ]
  },
  {
   "cell_type": "markdown",
   "metadata": {},
   "source": [
    "## Differencing attack: Sum"
   ]
  },
  {
   "cell_type": "markdown",
   "metadata": {},
   "source": [
    "We can also use the `sum` function to launch a differencing attack."
   ]
  },
  {
   "cell_type": "code",
   "execution_count": 16,
   "metadata": {},
   "outputs": [
    {
     "name": "stdout",
     "output_type": "stream",
     "text": [
      "Non-private differencing attack (sum): 2174.00\n"
     ]
    }
   ],
   "source": [
    "nonpriv_sum = np.sum(data['capital_gain']) - np.sum(data['capital_gain'][1:])\n",
    "\n",
    "print(\"Non-private differencing attack (sum): %.2f\" % nonpriv_sum)"
   ]
  },
  {
   "cell_type": "code",
   "execution_count": 17,
   "metadata": {},
   "outputs": [
    {
     "name": "stdout",
     "output_type": "stream",
     "text": [
      "Sensitive value estimate: 7309.71\n"
     ]
    }
   ],
   "source": [
    "sum_full = dp.tools.sum(np.array(data['capital_gain']), bounds=(0, 100000))\n",
    "sum_less = dp.tools.sum(np.array(data['capital_gain'][1:]), bounds=(0, 100000))\n",
    "\n",
    "print(\"Sensitive value estimate: %.2f\" % (sum_full - sum_less))"
   ]
  },
  {
   "cell_type": "markdown",
   "metadata": {},
   "source": [
    "# Accuracy on population statistics"
   ]
  },
  {
   "cell_type": "markdown",
   "metadata": {},
   "source": [
    "We have shown that differential privacy can robustly defend against extracting information about an individual. But on population statistics, differential privacy can deliver reliable estimates."
   ]
  },
  {
   "cell_type": "markdown",
   "metadata": {},
   "source": [
    "## Histograms"
   ]
  },
  {
   "cell_type": "markdown",
   "metadata": {},
   "source": [
    "For typical datasets, a differentially private histogram will be indistinguishable from a non-private one."
   ]
  },
  {
   "cell_type": "code",
   "execution_count": 18,
   "metadata": {},
   "outputs": [
    {
     "data": {
      "text/plain": [
       "<matplotlib.legend.Legend at 0x7f8e9110fb38>"
      ]
     },
     "execution_count": 18,
     "metadata": {},
     "output_type": "execute_result"
    },
    {
     "data": {
      "image/png": "[encoded data removed]",
      "text/plain": [
       "<Figure size 432x288 with 1 Axes>"
      ]
     },
     "metadata": {
      "needs_background": "light"
     },
     "output_type": "display_data"
    }
   ],
   "source": [
    "hist_dp, bins = dp.tools.histogram(data['hours_per_week'], range=(0, 100), bins=5)\n",
    "hist_np, _ = np.histogram(data['hours_per_week'], range=(0, 100), bins=5)\n",
    "w = 7\n",
    "\n",
    "plt.bar(bins[1:] - w/2, hist_dp, width=w, label=\"Differentially private\")\n",
    "plt.bar(bins[1:] + w/2, hist_np, width=w, label=\"Non-private\")\n",
    "plt.legend()"
   ]
  },
  {
   "cell_type": "markdown",
   "metadata": {},
   "source": [
    "Similarly, for typical datasets, the error in population statistics will be small."
   ]
  },
  {
   "cell_type": "code",
   "execution_count": 19,
   "metadata": {},
   "outputs": [
    {
     "name": "stdout",
     "output_type": "stream",
     "text": [
      "Capital gain:\n",
      "Non-private average: 1077.65\n",
      "Private average: 1076.15 (-0.00139%)\n"
     ]
    }
   ],
   "source": [
    "mean_np = np.mean(data['capital_gain'])\n",
    "mean_dp = dp.tools.mean(np.array(data['capital_gain']), bounds=(0, 100000))\n",
    "\n",
    "print(\"Capital gain:\\nNon-private average: %.2f\\nPrivate average: %.2f (%+.5f%%)\" % \n",
    "      (mean_np, mean_dp, (mean_dp - mean_np) / mean_np))"
   ]
  },
  {
   "cell_type": "markdown",
   "metadata": {},
   "source": [
    "We can still sub-index the data, and get accurate estimates."
   ]
  },
  {
   "cell_type": "code",
   "execution_count": 20,
   "metadata": {},
   "outputs": [
    {
     "name": "stdout",
     "output_type": "stream",
     "text": [
      "Strictly positive capital gain:\n",
      "Non-private average: 12938.54\n",
      "Private average: 12970.74 (+0.00249%)\n"
     ]
    }
   ],
   "source": [
    "mean_np = np.mean(data['capital_gain'][data['capital_gain']>0])\n",
    "mean_dp = dp.tools.mean(np.array(data['capital_gain'][data['capital_gain']>0]), bounds=(0, 100000))\n",
    "\n",
    "print(\"Strictly positive capital gain:\\nNon-private average: %.2f\\nPrivate average: %.2f (%+.5f%%)\" % \n",
    "      (mean_np, mean_dp, (mean_dp - mean_np) / mean_np))"
   ]
  },
  {
   "cell_type": "markdown",
   "metadata": {},
   "source": [
    "# Total privacy spend"
   ]
  },
  {
   "cell_type": "markdown",
   "metadata": {},
   "source": [
    "After running all the above queries, we can determine the total privacy spend from the `BudgetAccountant`."
   ]
  },
  {
   "cell_type": "code",
   "execution_count": 21,
   "metadata": {
    "scrolled": true
   },
   "outputs": [
    {
     "data": {
      "text/plain": [
       "(epsilon=23.0, delta=0.0)"
      ]
     },
     "execution_count": 21,
     "metadata": {},
     "output_type": "execute_result"
    }
   ],
   "source": [
    "acc.total()"
   ]
  }
 ],
 "metadata": {
  "kernelspec": {
   "display_name": "Python 3",
   "language": "python",
   "name": "python3"
  },
  "language_info": {
   "codemirror_mode": {
    "name": "ipython",
    "version": 3
   },
   "file_extension": ".py",
   "mimetype": "text/x-python",
   "name": "python",
   "nbconvert_exporter": "python",
   "pygments_lexer": "ipython3",
   "version": "3.6.8"
  }
 },
 "nbformat": 4,
 "nbformat_minor": 4
}
